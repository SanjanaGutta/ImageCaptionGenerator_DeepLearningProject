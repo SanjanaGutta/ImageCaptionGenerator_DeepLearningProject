{
 "cells": [
  {
   "cell_type": "code",
   "execution_count": 1,
   "id": "d90e17ce",
   "metadata": {},
   "outputs": [],
   "source": [
    "from pickle import load\n",
    "from keras.models import load_model\n",
    "from keras.preprocessing.sequence import pad_sequences\n",
    "from keras.applications.xception import Xception\n",
    "from keras.applications.inception_v3 import InceptionV3\n",
    "from PIL import Image\n",
    "import numpy as np\n",
    "\n",
    "\n",
    "from keras.preprocessing.image import load_img\n",
    "from keras.preprocessing.image import img_to_array"
   ]
  },
  {
   "cell_type": "code",
   "execution_count": 2,
   "id": "b241e6ac",
   "metadata": {},
   "outputs": [],
   "source": [
    "def word_for_id(integer, tokenizer):\n",
    "    for word, index in tokenizer.word_index.items():\n",
    "        if index == integer:\n",
    "            return word\n",
    "    return None"
   ]
  },
  {
   "cell_type": "code",
   "execution_count": 3,
   "id": "27e62d99",
   "metadata": {},
   "outputs": [],
   "source": [
    "def extract_features(filename):\n",
    "    # model = XceptionV3(include_top=False, pooling='avg' )\n",
    "    model = InceptionV3(include_top=False, pooling='avg' )\n",
    "    features = {}\n",
    "    \n",
    "    print(filename)\n",
    "    image = Image.open(filename)\n",
    "    image = image.resize((299,299))\n",
    "    image = np.array(image)\n",
    "    # for images that has 4 channels, we convert them into 3 channels\n",
    "    if image.shape[2] == 4: \n",
    "        image = image[..., :3]\n",
    "    image = np.expand_dims(image, axis=0)\n",
    "    image = image/127.5\n",
    "    image = image - 1.0\n",
    "    feature = model.predict(image)\n",
    "    return feature\n"
   ]
  },
  {
   "cell_type": "code",
   "execution_count": 4,
   "id": "af144602",
   "metadata": {},
   "outputs": [],
   "source": [
    "# generate a description for an image\n",
    "def generate_desc(model, tokenizer, photo, max_length):\n",
    "    # seed the generation process\n",
    "    in_text = 'startseq'\n",
    "    # iterate over the whole length of the sequence\n",
    "    for i in range(max_length):\n",
    "\n",
    "        sequence = tokenizer.texts_to_sequences([in_text])[0]\n",
    "\n",
    "        sequence = pad_sequences([sequence], maxlen=max_length)\n",
    "\n",
    "        yhat = model.predict([photo,sequence], verbose=0)\n",
    "\n",
    "        yhat = np.argmax(yhat)\n",
    "        \n",
    "        word = word_for_id(yhat, tokenizer)\n",
    "\n",
    "        if word is None:\n",
    "            break\n",
    "        \n",
    "        in_text += ' ' + word\n",
    "\n",
    "        if word == 'endseq':\n",
    "            break\n",
    "    return in_text"
   ]
  },
  {
   "cell_type": "markdown",
   "id": "45e66aff",
   "metadata": {},
   "source": [
    "### Generate Captions for images\n"
   ]
  },
  {
   "cell_type": "code",
   "execution_count": 5,
   "id": "c5d84f25",
   "metadata": {},
   "outputs": [
    {
     "name": "stdout",
     "output_type": "stream",
     "text": [
      "TestImages/tom_and_jerry.jpg\n",
      "Xception:  the small child is jumping on bed\n",
      "Inception:  dog is running through the grass\n",
      "Wall time: 4.14 s\n"
     ]
    }
   ],
   "source": [
    "%%time\n",
    "\n",
    "# load the tokenizer\n",
    "tokenizer = load(open('tokenizer.pkl', 'rb'))\n",
    "\n",
    "max_length = 34 # from training\n",
    "\n",
    "\n",
    "# Use InceptionV3 or Xception accordingly\n",
    "# model = load_model('Xception_model.h5')\n",
    "model = load_model('InceptionV3_model.h5')\n",
    "\n",
    "\n",
    "# give any valid filename of the image to test\n",
    "test_filename = 'TestImages/woman_and_dog.jpg'\n",
    "\n",
    "picture = extract_features(test_filename)\n",
    "\n",
    "\n",
    "# generate description\n",
    "description = generate_desc(model, tokenizer, picture, max_length)\n",
    "#print(description)\n",
    "\n",
    "#Remove startseq and endseq\n",
    "query = description\n",
    "stopwords = ['startseq','endseq']\n",
    "querywords = query.split()\n",
    "\n",
    "resultwords  = [word for word in querywords if word.lower() not in stopwords]\n",
    "result = ' '.join(resultwords)\n",
    "\n",
    "print(result)"
   ]
  },
  {
   "cell_type": "code",
   "execution_count": null,
   "id": "77f26f80",
   "metadata": {},
   "outputs": [],
   "source": []
  },
  {
   "cell_type": "code",
   "execution_count": null,
   "id": "f2581000",
   "metadata": {},
   "outputs": [],
   "source": []
  }
 ],
 "metadata": {
  "kernelspec": {
   "display_name": "Python 3",
   "language": "python",
   "name": "python3"
  },
  "language_info": {
   "codemirror_mode": {
    "name": "ipython",
    "version": 3
   },
   "file_extension": ".py",
   "mimetype": "text/x-python",
   "name": "python",
   "nbconvert_exporter": "python",
   "pygments_lexer": "ipython3",
   "version": "3.8.8"
  }
 },
 "nbformat": 4,
 "nbformat_minor": 5
}
